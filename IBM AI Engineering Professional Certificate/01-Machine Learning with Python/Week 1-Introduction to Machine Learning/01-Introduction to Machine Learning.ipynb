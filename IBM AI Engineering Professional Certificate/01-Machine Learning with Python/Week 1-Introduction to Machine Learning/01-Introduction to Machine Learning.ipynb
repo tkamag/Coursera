{
 "cells": [
  {
   "cell_type": "markdown",
   "metadata": {},
   "source": [
    "# A. Introduction to Machine Learning\n",
    "\n",
    "**Key Concepts**\n",
    "\n",
    "* To demonstrate the Python libraries for Machine Learning\n",
    "* To classify Supervised vs. Unsupervised algorithms\n",
    "* To give examples of Machine Learning"
   ]
  },
  {
   "cell_type": "markdown",
   "metadata": {},
   "source": [
    "## A.1 What is Machine Leaning?\n",
    "> A **malignant tumor** is a **tumor that may invade its surrounding tissue or spread around the body, and diagnosing it early might be the key to a patient’s survival**.\n",
    "\n",
    "> **Machine learning** is the subfield of computer science that gives *computers the ability to learn without being explicitly programmed.* \n",
    "\n",
    "> **Machine learning follows the same process that a 4-year-old child uses to learn, understand, and differentiate animals**. So, machine learning algorithms, **inspired by the human learning process, iteratively learn from data, and allow computers to find hidden insights.** \n",
    "\n",
    "* How do you think Netflix and Amazon **recommend videos, movies, and TV shows to its users**? They use **Machine Learning** to produce suggestions that you might enjoy! This is similar to how your friends might recommend a television show to you, based on their knowledge of the types of shows you like to watch.\n",
    "\n",
    "* How do you think **banks make a decision when approving a loan application**? They use machine learning to predict the probability of default for each applicant, and then approve or refuse the loan application based on that probability. \n",
    "\n",
    "* Telecommunication companies use their customers’ demographic data to segment them, or predict if they will unsubscribe from their company the next month.\n",
    "\n",
    "* There are many other applications of machine learning that we see every day in our daily life, **such as chatbots, logging into our phones or even computer games using face recognition.** "
   ]
  },
  {
   "cell_type": "markdown",
   "metadata": {},
   "source": [
    "## A.2 Introduction to Machine Learning\n",
    "In brief, \n",
    "* **AI tries to make computers intelligent in order to mimic the cognitive functions of humans**. So, **Artificial Intelligence** is a **general field with a broad scope including: Computer Vision, Language Processing, Creativity, and Summarization.** \n",
    "\n",
    "* **Machine Learning** is the **branch of AI that covers the statistical part of artificial intelligence**. It **teaches the computer to solve problems by looking at hundreds or thousands of examples, learning from them, and then using that experience to solve the same problem in new situations**. \n",
    "\n",
    "* **Deep Learning** is a very special **field of Machine Learning where computers can actually learn and make intelligent decisions on their own**. Deep learning **involves a deeper level of automation in comparison with most machine learning algorithms**."
   ]
  },
  {
   "cell_type": "markdown",
   "metadata": {},
   "source": [
    "## A.3 Python for Machine Learning"
   ]
  },
  {
   "cell_type": "markdown",
   "metadata": {},
   "source": [
    "## A.4 Supervised vs Unsupervised\n",
    "* **Supervise**, means to observe, and direct the execution of a task, project, or activity. Obviously we aren't going to be supervising a person, instead will be supervising a machine learning model that might be able to produce classification regions like we see here. So, how do we supervise a machine learning model? We do this by teaching the model, that is we load the model with knowledge so that we can have it predict future instances.\n",
    "\n",
    "* **Unsupervised learning** is exactly as it sounds. We do not supervise the model, but we let the model work on its own to discover information that may not be visible to the human eye. It means, the unsupervised algorithm trains on the dataset, and draws conclusions on unlabeled data. Generally speaking, unsupervised learning has more difficult algorithms than supervised learning since we know little to no information about the data, or the outcomes that are to be expected. Dimension reduction, density estimation, market basket analysis, and clustering are the most widely used unsupervised machine learning techniques"
   ]
  },
  {
   "cell_type": "markdown",
   "metadata": {},
   "source": [
    "To recap, **the biggest difference between supervised and unsupervised learning is that supervised learning deals with labeled data while unsupervised learning deals with unlabeled data**. \n",
    "\n",
    "* In **supervised learning**, we have machine learning algorithms for classification and regression. \n",
    "* In **unsupervised learning**, we have methods such as clustering. \n",
    "\n",
    "> In **comparison to supervised learning, unsupervised learning has fewer models and fewer evaluation methods that can be used to ensure that the outcome of the model is accurat-**. As such, **unsupervised learning creates a less controllable environment as the machine is creating outcomes for us**. "
   ]
  },
  {
   "cell_type": "code",
   "execution_count": null,
   "metadata": {},
   "outputs": [],
   "source": []
  }
 ],
 "metadata": {
  "kernelspec": {
   "display_name": "Python 3",
   "language": "python",
   "name": "python3"
  },
  "language_info": {
   "codemirror_mode": {
    "name": "ipython",
    "version": 3
   },
   "file_extension": ".py",
   "mimetype": "text/x-python",
   "name": "python",
   "nbconvert_exporter": "python",
   "pygments_lexer": "ipython3",
   "version": "3.7.1"
  }
 },
 "nbformat": 4,
 "nbformat_minor": 2
}
