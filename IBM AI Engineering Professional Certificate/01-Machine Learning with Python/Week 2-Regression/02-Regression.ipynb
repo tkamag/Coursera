{
 "cells": [
  {
   "cell_type": "markdown",
   "metadata": {},
   "source": [
    "# A. Regression\n",
    "\n",
    "**Key Concepts**\n",
    "\n",
    "* To underestand the basics of regression\n",
    "* To apply Simple and Multiple, Linear and Non-Linear Regression on a dataset for estimation."
   ]
  },
  {
   "cell_type": "markdown",
   "metadata": {},
   "source": [
    "## A.1 Linear Regression"
   ]
  },
  {
   "cell_type": "markdown",
   "metadata": {},
   "source": [
    "### A.1.1 Introduction to Regression"
   ]
  },
  {
   "cell_type": "markdown",
   "metadata": {},
   "source": [
    "### A.1.2 Simple Linear Regression"
   ]
  },
  {
   "cell_type": "markdown",
   "metadata": {},
   "source": [
    "### A.1.3 Model Evaluation in Regression Models"
   ]
  },
  {
   "cell_type": "markdown",
   "metadata": {},
   "source": [
    "### A.1.4 Evaluation Metrics in Regression Models"
   ]
  },
  {
   "cell_type": "markdown",
   "metadata": {},
   "source": [
    "### A.1.5 Multiple Linear Regression"
   ]
  },
  {
   "cell_type": "markdown",
   "metadata": {},
   "source": [
    "## A.2 Non Linear Regression\n",
    "**How can I know if a problem is linear or non-linear in an easy way?** To answer this question, we have to do two things. \n",
    "\n",
    "* The **first** is to **visually figure out if the relation is linear or non-linear**. \n",
    "    * It's best **to plot bivariate plots of output variables with each input variable**. \n",
    "    * Also, **you can calculate the correlation coefficient** between independent and dependent variables, and if, for all variables, **if it is 0.7 or higher, there is a linear tendency and thus, it's not appropriate to fit a non-linear regression**. \n",
    "    \n",
    "* The **second** thing we have to do **is to use non-linear regression instead of linear regression** when we cannot accurately model the relationship with linear parameters. \n",
    "\n",
    "The second important question is, **how should I model my data if it displays non-linear on a scatter plot?** Well, **to address this, you have to use either a polynomial regression, use a non-linear regression model, or transform your data**"
   ]
  },
  {
   "cell_type": "code",
   "execution_count": null,
   "metadata": {},
   "outputs": [],
   "source": []
  }
 ],
 "metadata": {
  "kernelspec": {
   "display_name": "Python 3",
   "language": "python",
   "name": "python3"
  },
  "language_info": {
   "codemirror_mode": {
    "name": "ipython",
    "version": 3
   },
   "file_extension": ".py",
   "mimetype": "text/x-python",
   "name": "python",
   "nbconvert_exporter": "python",
   "pygments_lexer": "ipython3",
   "version": "3.7.3"
  }
 },
 "nbformat": 4,
 "nbformat_minor": 4
}
