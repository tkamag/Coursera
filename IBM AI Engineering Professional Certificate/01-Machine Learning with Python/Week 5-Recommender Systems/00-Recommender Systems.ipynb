{
 "cells": [
  {
   "cell_type": "markdown",
   "metadata": {},
   "source": [
    "# A. Recommender Systems\n",
    "**Key Concepts**\n",
    "* To implmenet recommender system on a real dataset.\n",
    "* To understand the purpuse and mechanizem of recommendation systems.\n",
    "* To understand different types of recommander systems."
   ]
  },
  {
   "cell_type": "markdown",
   "metadata": {},
   "source": [
    "## A.1 Content-based Recommendation Engines"
   ]
  },
  {
   "cell_type": "markdown",
   "metadata": {},
   "source": [
    "### A.1.1 Intro to Recommendation Systems\n",
    "Even though peoples’ tastes may vary, they generally follow patterns. By that, I mean that there are similarities in the things that people tend to like … or another way to look at it, is that people tend to like things in the same category or things that share the same characteristics.\n",
    "\n",
    "People also tend to have similar tastes to those of the people they’re close to in their lives. **Recommender systems** try **to capture these patterns and similar behaviors**, to help predict what else you might like. **Recommender systems** have many applications that I’m sure you’re already familiar with. Indeed, **Recommender systems** are usually at play on many websites. \n",
    "\n",
    "One of the main advantages of using recommendation systems is **that users get a broader exposure to many different products they might be interested in**. This exposure encourages users towards continual usage or purchase of their product. \n",
    "\n",
    "There are generally 2 main types of recommendation systems: **Content-based and collaborative filtering.** The main difference between each, **can be summed up by the type of statement that a consumer might make**. \n",
    "\n",
    "**For instance**, the main paradigm of a \n",
    "\n",
    "* **Content-based recommendation system** is driven by the statement: *Show me more of the same of what I've liked before*. **Content-based systems** try **to figure out what a user's favorite aspects of an item are, and then make recommendations on items that share those aspects**. \n",
    "\n",
    "* **Collaborative filtering** is based on a user saying, *Tell me what's popular among my neighbors because I might like it too.* **Collaborative filtering** techniques **find similar groups of users, and provide recommendations based on similar tastes within that group.**\n",
    "\n",
    "* there are **Hybrid recommender systems**, which combine various mechanisms.\n",
    "\n",
    "> **In terms of implementing recommender systems, there are 2 types: Memory-based and Model-based.**\n",
    "\n",
    "In **memory-based approaches**, we use **the entire user-item dataset to generate a recommendation system**. It uses **statistical techniques to approximate users or items**. Examples of these techniques include: **Pearson Correlation, Cosine Similarity and Euclidean Distance**, among others. \n",
    "\n",
    "In **model-based approaches**, a **model of users is developed in an attempt to learn their preferences**. Models can be created using Machine Learning techniques like regression, clustering, classification, and so on."
   ]
  },
  {
   "cell_type": "markdown",
   "metadata": {},
   "source": [
    "## A.1.2 Content-based Recommender Systems\n",
    "A Content-based recommendation system tries to recommend items to users based on their profile. The user's profile revolves around that user's preferences and tastes. It is shaped based on user ratings, including the number of times that user has clicked on different items or perhaps even liked those items.\n",
    "\n",
    "> The recommendation process **is based on the similarity between those items**. Similarity or closeness of items **is measured based on the similarity in the content of those items.**\n",
    "\n",
    "* First, **we create a vector** to show the user's ratings for the movies that she's already watched. We call it **Input User Ratings**. \n",
    "\n",
    "* Then, **we encode the movies** through the **one-hot encoding** approach. Genre of movies are used here as a **feature set**.  We use the movies to make one matrix, which represents the movie **feature set matrix**.  If we multiply these two matrices we can get the **weighted feature set for the movies.** \n",
    "> This matrix is also called **the Weighted Genre matrix and represents the interests of the user for each genre based on the movies that she's watched.** \n",
    "\n",
    "> Given the **Weighted Genre Matrix**, we can shape the profile of our active user. Essentially, **we can aggregate the weighted genres and then normalize them to find the user profile**. e use this profile to figure out what movie is proper to recommend to this user. \n",
    "\n",
    "Recall that we also had **candidate movies for recommendation** that haven't been watched by the user, **we encode these movies as well**. Now we're in the position where we have to figure out which of them is most suited to be recommended to the user. To do this, we simply multiply the User Profile matrix by the candidate Movie Matrix, which results in the Weighted Movies Matrix. **It shows the weight of each genre with respect to the User Profile.**\n",
    "\n",
    "Now, if we aggregate these weighted ratings, we get the **active user's possible interest level in these three movies**. In essence, **it's our recommendation lists, which we can sort to rank the movies and recommend them to the user.** \n",
    "\n",
    "To recap what we've discussed so far, **the recommendation in a content-based system is based on user's taste and the content or feature set items**. Such a model is very efficient. However, in some cases, **it doesn't work**. \n",
    "\n",
    "**For example**, assume that we have a movie in the drama genre, which the user has never watch. So, this genre would not be in her profile. Therefore, shall only get recommendations related to genres that are already in her profile and the recommender engine may never recommend any movie within other genres. This problem can be solved by other types of recommender systems such as collaborative filtering."
   ]
  },
  {
   "cell_type": "markdown",
   "metadata": {},
   "source": [
    "### A.1.3 Collaborative Filtering\n",
    "**Collaborative filtering** is based on the fact that relationships exist between products and people's interests. Many recommendation systems use collaborative filtering to find these relationships and to give an accurate recommendation of a product that the user might like or be interested in. **Collaborative filtering** has basically two approaches; **user-based**, and **item-based**. \n",
    "* **User-based collaborative filtering** is based on the user similarity or neighborhood. \n",
    "* **Item-based collaborative filtering is based on similarity among items.**\n",
    "\n",
    "In **user-based collaborative filtering**, we have an **active user for whom the recommendation is aimed**. The **collaborative filtering** engine \n",
    "* first looks for users who are similar. That is users who **share the active users rating patterns**. Collaborative filtering basis this similarity on things like **history, preference, and choices that users make when buying, watching, or enjoying something**. **For example**, movies that similar users have rated highly. \n",
    "\n",
    "* Then it uses **the ratings from these similar users to predict the possible ratings by the active user for a movie that she had not previously watched.** **For instance**, if two users are similar or are neighbors **in terms of their interested movies**, we can recommend a movie to the active user that her neighbor has already seen.\n",
    "\n",
    "Assume that we have a simple user item matrix, which shows the ratings of four users for five different movies. Let's also assume that our active user has watched and rated three out of these five movies. Let's find out which of the two movies that our active user hasn't watched should be recommended to her. \n",
    "* The **first** step is to discover how similar the active user is to the other users. this can be done through several different statistical and vectorial techniques such as distance or similarity measurements including Euclidean Distance, Pearson Correlation, Cosine Similarity, and so on.\n",
    "> To calculate the level of similarity between two users, **we use the three movies that both the users have rated in the past.**\n",
    "\n",
    "* The **next step** is to create a weighted rating matrix. Now, we can use it **to calculate the possible opinion of the active user about our two target movies**. This is achieved **by multiplying the similarity weights to the user ratings.** It results in a weighted ratings matrix, **which represents the user's neighbors opinion about are two candidate movies for recommendation.** In fact, it incorporates the behavior of other users and gives more weight to the ratings of those users who are more similar to the active user. \n",
    "> Now, **we can generate the recommendation matrix by aggregating all of the weighted rates.** We have to normalize the weighted rating values. We do this by dividing it by the sum of the similarity index for users. The result is the potential rating that our active user will give to these movies based on her similarity to other users. \n",
    "\n",
    "> **It is obvious that we can use it to rank the movies for providing recommendation to our active user**\n",
    "\n",
    "Let's examine what's different between user-based and item-based collaborative filtering. In the user-based approach, \n",
    "\n",
    "* In the **user-based approach**, the recommendation **is based on users of the same neighborhood with whom he or she shares common preferences**. \n",
    "\n",
    "**For example**, as User 1 and User 3 both liked Item 3 and Item 4, we consider them as similar or neighbor users, and recommend Item 1 which is positively rated by User 1 to User 3.\n",
    "\n",
    "* In the **item-based approach**, similar **items build neighborhoods on the behavior of users**. Please note however, that **it is not based on their contents**. \n",
    "\n",
    "**For example**, Item 1 and Item 3 are considered neighbors as they were positively rated by both User 1 and User 2. So, Item 1 can be recommended to User 3 as he has already shown interest in Item 3. Therefore, **the recommendations here are based on the items in the neighborhood that a user might prefer**.\n",
    "\n",
    "**Collaborative filtering** is a very effective recommendation system. However, **there are some challenges with it as well**. \n",
    "\n",
    "* One of them is **data sparsity**. **Data sparsity** happens when **you have a large data set of users who generally rate only a limited number of items**. \n",
    "> As mentioned, **collaborative based recommender**s can only predict scoring of an item if there are other users who have rated it. \n",
    "\n",
    "Due to **sparsity**, we might not have enough ratings in the user item dataset which **makes it impossible to provide proper recommendations**. \n",
    "\n",
    "* Another issue to keep in mind is something called **cold start**. **Cold start** refers to **the difficulty the recommendation system has when there is a new user**, and as such a profile doesn't exist for them yet. **Cold start** can also happen **when we have a new item which has not received a rating**. \n",
    "\n",
    "* **Scalability** can become an issue as well. **As the number of users or items increases and the amount of data expands, collaborative filtering algorithms will begin to suffer drops in performance**, simply due to growth and the similarity computation. There are some solutions for each of these challenges such as using **hybrid based recommender systems,**"
   ]
  },
  {
   "cell_type": "code",
   "execution_count": null,
   "metadata": {},
   "outputs": [],
   "source": []
  }
 ],
 "metadata": {
  "kernelspec": {
   "display_name": "Python 3",
   "language": "python",
   "name": "python3"
  },
  "language_info": {
   "codemirror_mode": {
    "name": "ipython",
    "version": 3
   },
   "file_extension": ".py",
   "mimetype": "text/x-python",
   "name": "python",
   "nbconvert_exporter": "python",
   "pygments_lexer": "ipython3",
   "version": "3.7.3"
  }
 },
 "nbformat": 4,
 "nbformat_minor": 4
}
