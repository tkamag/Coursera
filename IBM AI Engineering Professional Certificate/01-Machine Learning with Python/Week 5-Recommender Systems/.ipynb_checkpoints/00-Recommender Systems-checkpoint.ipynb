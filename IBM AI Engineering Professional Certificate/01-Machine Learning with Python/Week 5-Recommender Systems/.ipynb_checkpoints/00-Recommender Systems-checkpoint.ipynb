{
 "cells": [
  {
   "cell_type": "markdown",
   "metadata": {},
   "source": [
    "# A. Recommender Systems\n",
    "**Key Concepts**\n",
    "* To implmenet recommender system on a real dataset.\n",
    "* To understand the purpuse and mechanizem of recommendation systems.\n",
    "* To understand different types of recommander systems."
   ]
  },
  {
   "cell_type": "markdown",
   "metadata": {},
   "source": [
    "## A.1 Content-based Recommendation Engines"
   ]
  }
 ],
 "metadata": {
  "kernelspec": {
   "display_name": "Python 3",
   "language": "python",
   "name": "python3"
  },
  "language_info": {
   "codemirror_mode": {
    "name": "ipython",
    "version": 3
   },
   "file_extension": ".py",
   "mimetype": "text/x-python",
   "name": "python",
   "nbconvert_exporter": "python",
   "pygments_lexer": "ipython3",
   "version": "3.7.3"
  }
 },
 "nbformat": 4,
 "nbformat_minor": 4
}
