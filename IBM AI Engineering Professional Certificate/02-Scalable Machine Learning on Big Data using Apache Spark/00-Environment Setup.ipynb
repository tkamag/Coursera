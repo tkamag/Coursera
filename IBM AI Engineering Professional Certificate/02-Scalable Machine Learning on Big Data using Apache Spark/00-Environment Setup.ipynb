{
 "cells": [
  {
   "cell_type": "markdown",
   "metadata": {},
   "source": [
    "# Environment Setup\n",
    "<br>"
   ]
  },
  {
   "cell_type": "markdown",
   "metadata": {},
   "source": [
    "**IMPORTANT !!!!!!!!!**\n",
    "\n",
    "Please create a **Spark 2.3** environment for now since the code provided is not yet properly running in **Spark 2.4**\n",
    "\n",
    "**IMPORTANT !!!!!!!!!**"
   ]
  },
  {
   "cell_type": "markdown",
   "metadata": {},
   "source": [
    "The following explains how to setup the environment for graded assignments and exercises in Coursera. Since things are changing fast we decided to keep this content up to date for all IBM Coursera courses outside Coursera.\n",
    "\n",
    "We got the feedback that some folks prefere it in written form, therefore we've started to provide it. Step 1 and 2 are ready as [text tutorial](https://github.com/IBM/coursera/wiki/Watson-Studio-Setup)\n",
    "\n",
    "The rest is still available as video only. (Note, it's all the same video, just provided jump-in links :)"
   ]
  },
  {
   "cell_type": "markdown",
   "metadata": {},
   "source": [
    "a. IBM Cloud Account Setup\n",
    "[Please use thE URL](https://www.youtube.com/watch?v=X2cgKWTQoaA) to register for the account: http://ibm.biz/coursera\n",
    "\n",
    "\n",
    "b. [Create a Project](https://youtu.be/X2cgKWTQoaA?t=188) in Watson Studio [Please use the following URL](https://dataplatform.cloud.ibm.com/)\n",
    "\n",
    "\n",
    "c. [Create an python 3.5](https://youtu.be/X2cgKWTQoaA?t=317) (anaconda) run-time in the 1 CPU/4 GB RAM free tier\n",
    "\n",
    "\n",
    "d. **IMPORTANT:** [Always stop the kernels](https://youtu.be/X2cgKWTQoaA?t=419) after you've finished your work in all non-free runtimes, otherwise you'll use up your 50 free monthly capacity units very fast.\n",
    "\n",
    "e. [Create a Spark Environment](https://youtu.be/X2cgKWTQoaA?t=428) with only one Worker to save capacity units\n",
    "\n",
    "\n",
    "f. [Import a notebook](https://youtu.be/X2cgKWTQoaA?t=483) from the [course's github repo](Https://github.com/IBM/coursera):\n",
    "\n",
    "\n",
    "g. In case you want to install Apache Spark 2.4.4 into an ordinary Anaconda Runtime (Default Python 3.6 Free) or any type of notebook environment outside [Watson Studio](https://www.youtube.com/watch?v=jWC1EbVtF3E):\n",
    "\n",
    "\n",
    "h. How to [submit your work to the Coursera grader](https://www.youtube.com/watch?v=GcDo0Rwe06U)"
   ]
  },
  {
   "cell_type": "markdown",
   "metadata": {},
   "source": [
    "# Toubleshooting\n",
    "<br>"
   ]
  },
  {
   "cell_type": "markdown",
   "metadata": {},
   "source": [
    "**Q**. Cannot find the web page for **nopanic.ai/coursera** I followed the instructions of https://github.com/IBM/coursera/wiki/Environment-Setup, but I cannot find the web page when typing **nopanic.ai/coursera**. So how can I have free access to the IBM Watson during the course? Thank you.\n",
    "\n",
    "<br>\n",
    "\n",
    "**A**. hi, can you use **ibm.biz/coursera?** It's just a way to track registrations coming from Coursera to justify the money we spend for paying our instructors and video production team :)"
   ]
  },
  {
   "cell_type": "markdown",
   "metadata": {},
   "source": [
    "**Q**. IBM Cloud Cannot Work without subscribing\n",
    "\n",
    "<br>\n",
    "\n",
    "**A**. this is a known problem and unfortunately the only painless way is creating a new free account using a new email address, so sorry!\n",
    "<br>\n",
    "\n",
    "If you use the link below it counts to the Coursera metrics helping us to get resources to maintain the course :) https://ibm.biz/coursera"
   ]
  },
  {
   "cell_type": "code",
   "execution_count": null,
   "metadata": {},
   "outputs": [],
   "source": []
  }
 ],
 "metadata": {
  "kernelspec": {
   "display_name": "Python 3",
   "language": "python",
   "name": "python3"
  },
  "language_info": {
   "codemirror_mode": {
    "name": "ipython",
    "version": 3
   },
   "file_extension": ".py",
   "mimetype": "text/x-python",
   "name": "python",
   "nbconvert_exporter": "python",
   "pygments_lexer": "ipython3",
   "version": "3.7.6"
  }
 },
 "nbformat": 4,
 "nbformat_minor": 4
}
